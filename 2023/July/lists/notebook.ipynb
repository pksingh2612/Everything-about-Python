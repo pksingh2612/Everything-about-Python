{
 "cells": [
  {
   "cell_type": "markdown",
   "metadata": {},
   "source": [
    "#### Copy of List\n",
    "\n",
    "\n",
    "a)  lists should be copied by executing [:] operation.\n",
    "b)  shallow copy\n",
    "c)  deep copy"
   ]
  },
  {
   "cell_type": "markdown",
   "metadata": {},
   "source": [
    "The copy.copy() function creates a new list object that is a shallow copy of the original list. This means that if the original list contains mutable objects (e.g., nested lists or objects), the copied list will still reference the same objects. Changes made to those objects will be reflected in both the original and copied lists.\n",
    "\n",
    "The copy.deepcopy() function creates a new list object and recursively copies all nested objects, ensuring that the copied list is entirely independent of the original one.\n",
    "\n",
    "Note that for simple lists with only primitive types (e.g., integers, strings), using the copy.copy() function is sufficient. The copy.deepcopy() function is more useful when dealing with complex nested structures or mutable objects within the list."
   ]
  },
  {
   "cell_type": "code",
   "execution_count": null,
   "metadata": {},
   "outputs": [],
   "source": [
    "original_list = [1, 2, 3, 4, 5]\n",
    "copied_list = original_list[:]\n",
    "\n",
    "print(\"Original list:\", original_list)\n",
    "print(\"Copied list:\", copied_list)\n",
    "\n",
    "\n",
    "# In the above code, original_list[:] creates a new list object that is a slice of the original_list from the beginning to the end. This effectively creates a copy of the entire list. The copied list is assigned to the copied_list variable.\n",
    "\n",
    "# Both the original list and the copied list will contain the same elements. However, they will be two separate list objects in memory. Changes made to one list will not affect the other.\n",
    "\n",
    "# It's important to note that the [:] operation creates a shallow copy. If the list contains mutable objects (e.g., nested lists or objects), the copied list will still reference the same objects. Changes made to those objects will be reflected in both the original and copied lists.\n",
    "\n",
    "# If you need to create a deep copy of the list, including any nested objects, you can use the copy.deepcopy() function from the copy module, as shown in the previous response."
   ]
  },
  {
   "cell_type": "code",
   "execution_count": 1,
   "metadata": {},
   "outputs": [
    {
     "name": "stdout",
     "output_type": "stream",
     "text": [
      "Original list: [1, 2, 3, 4, 5]\n",
      "Copied list: [1, 2, 3, 4, 5]\n"
     ]
    }
   ],
   "source": [
    "import copy\n",
    "\n",
    "original_list = [1, 2, 3, 4, 5]\n",
    "copied_list = copy.copy(original_list)\n",
    "\n",
    "print(\"Original list:\", original_list)\n",
    "print(\"Copied list:\", copied_list)"
   ]
  },
  {
   "cell_type": "code",
   "execution_count": 2,
   "metadata": {},
   "outputs": [
    {
     "name": "stdout",
     "output_type": "stream",
     "text": [
      "Original list: [1, [2, 3], 4, [5, 6]]\n",
      "Copied list: [1, [2, 3], 4, [5, 6]]\n"
     ]
    }
   ],
   "source": [
    "import copy\n",
    "\n",
    "original_list = [1, [2, 3], 4, [5, 6]]\n",
    "copied_list = copy.deepcopy(original_list)\n",
    "\n",
    "print(\"Original list:\", original_list)\n",
    "print(\"Copied list:\", copied_list)"
   ]
  }
 ],
 "metadata": {
  "kernelspec": {
   "display_name": "Python 3",
   "language": "python",
   "name": "python3"
  },
  "language_info": {
   "codemirror_mode": {
    "name": "ipython",
    "version": 3
   },
   "file_extension": ".py",
   "mimetype": "text/x-python",
   "name": "python",
   "nbconvert_exporter": "python",
   "pygments_lexer": "ipython3",
   "version": "3.11.1"
  },
  "orig_nbformat": 4
 },
 "nbformat": 4,
 "nbformat_minor": 2
}
