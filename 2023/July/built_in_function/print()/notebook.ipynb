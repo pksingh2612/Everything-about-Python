{
 "cells": [
  {
   "cell_type": "markdown",
   "metadata": {},
   "source": [
    "## Syntax: \n",
    "\n",
    "> print(*objects, sep=' ', end='\\n', file=sys.stdout, flush=False)\n",
    "\n",
    "## Breakdown of the different components of the print() function:\n",
    "\n",
    "* objects: Represents one or more values or expressions that need to be displayed. Multiple objects can be separated by commas.\n",
    "*  sep: Specifies the separator between the objects. By default, it is set to a space (' ').\n",
    "* end: Specifies what character(s) to print at the end. The default is a newline character ('\\n'), which prints each object on a new line. You can change it to a different character or an empty string ('') if desired.\n",
    "* file: Specifies the output file. By default, it is set to sys.stdout, which represents the console. You can redirect the output to a file by specifying a different file object.\n",
    "* flush: Specifies whether the output should be flushed immediately. By default, it is set to False, meaning the output is buffered. You can set it to True to force flushing.\n"
   ]
  },
  {
   "cell_type": "markdown",
   "metadata": {},
   "source": [
    "##### Note: \n",
    "* I am using Python 3.11.1 (at point of creation of this document)"
   ]
  },
  {
   "cell_type": "code",
   "execution_count": 2,
   "metadata": {},
   "outputs": [
    {
     "name": "stdout",
     "output_type": "stream",
     "text": [
      "Hello, Geek!\n"
     ]
    }
   ],
   "source": [
    "# Printing Hello World\n",
    "print(\"Hello, Geek!\")"
   ]
  },
  {
   "cell_type": "code",
   "execution_count": 3,
   "metadata": {},
   "outputs": [
    {
     "data": {
      "text/plain": [
       "builtin_function_or_method"
      ]
     },
     "execution_count": 3,
     "metadata": {},
     "output_type": "execute_result"
    }
   ],
   "source": [
    "# check the type/class of the print() function\n",
    "type(print)"
   ]
  },
  {
   "cell_type": "code",
   "execution_count": 4,
   "metadata": {},
   "outputs": [
    {
     "name": "stdout",
     "output_type": "stream",
     "text": [
      "Hello, World!\n",
      "\n",
      "Hello, World!\n"
     ]
    }
   ],
   "source": [
    "# Printing blank line\n",
    "# The print() function with no arguments is used to create the blank line.\n",
    " \n",
    "print(\"Hello, World!\")\n",
    "print()\n",
    "print(\"Hello, World!\")"
   ]
  },
  {
   "cell_type": "code",
   "execution_count": 14,
   "metadata": {},
   "outputs": [
    {
     "name": "stdout",
     "output_type": "stream",
     "text": [
      "lenSkills tutorial on python print function\n",
      "[1, 2, 3, 4, 5, 6]\n",
      "2 is an integer while LenSkills is a string.\n",
      "2 is an integer while LenSkills is a string.\n",
      "2 is an integer while LenSkills is a string.\n"
     ]
    }
   ],
   "source": [
    "# Printing a (series of strings)/list separated by commas.\n",
    "print('lenSkills','tutorial','on','python','print','function')\n",
    "\n",
    "int_list = [1,2,3,4,5,6]\n",
    "print(int_list)\n",
    "\n",
    "\n",
    "a = 2\n",
    "b = \"LenSkills\"\n",
    "print(a,\"is an integer while\",b,\"is a string.\")\n",
    "\n",
    "# format argument\n",
    "print(\"{0} is an integer while {1} is a string.\".format(a,b))\n",
    "\n",
    "# print function acts as a template ( percentage (%) sign that you can use to print the values of the variables )\n",
    "# %d is used as a placeholder for numeric or decimal values.\n",
    "# %s is used as a placeholder for strings.\n",
    "print(\"%d is an integer while %s is a string.\"%(a,b))"
   ]
  },
  {
   "cell_type": "code",
   "execution_count": 6,
   "metadata": {},
   "outputs": [
    {
     "name": "stdout",
     "output_type": "stream",
     "text": [
      "lenskills\n",
      "tutorial\n",
      "on\n",
      "python\n",
      "print\n",
      "function\n"
     ]
    }
   ],
   "source": [
    "# sep: It can be a string which you would like to insert between values, defaults to space.\n",
    "print('lenskills','tutorial','on','python','print','function',sep='\\n')"
   ]
  },
  {
   "cell_type": "code",
   "execution_count": 9,
   "metadata": {},
   "outputs": [
    {
     "name": "stdout",
     "output_type": "stream",
     "text": [
      "lenSkills tutorial on\n",
      "python print function\n",
      "lenSkills tutorial on python print function\n"
     ]
    }
   ],
   "source": [
    "# end: It is a string appended after the last value, defaults to a newline. \n",
    "# It allows the programmer to define a custom ending character for each print call other than the default newline or \\n.\n",
    "\n",
    "str1 = 'lenSkills tutorial on'\n",
    "str2 = 'python print function'\n",
    "\n",
    "print(str1)\n",
    "print(str2)\n",
    "\n",
    "print(str1,end=' ')\n",
    "print(str2)"
   ]
  },
  {
   "cell_type": "code",
   "execution_count": 10,
   "metadata": {},
   "outputs": [],
   "source": [
    "# file: A file-like object (stream); defaults to the current sys.stdout. \n",
    "# Here you can mention the file in which you would like to write or append the output of the print function.\n",
    "\n",
    "file = open('print.txt','a+')\n",
    "\n",
    "def value(items):\n",
    "    for item in items:\n",
    "        print(item, file=file)\n",
    "    file.close() # close the file ones the function execution completes.\n",
    "\n",
    "value([1,2,3,4,5,6,7,8,9,10])"
   ]
  },
  {
   "cell_type": "code",
   "execution_count": 12,
   "metadata": {},
   "outputs": [
    {
     "name": "stdout",
     "output_type": "stream",
     "text": [
      "Please enter your email-id :  "
     ]
    }
   ],
   "source": [
    "# flush: It determines whether to forcibly flush the stream. By default, it is set to False.\n",
    "\n",
    "# Typically, output to a file or the console is buffered, with text output at least until you print a newline (Source). \n",
    "# Buffer means that the output is stored in some kind of a register where the output resides before it is ready to be stored \n",
    "# or the file is finally closed. The job of the flush is to make sure that the output, which is being buffered, goes to the \n",
    "# destination safely.\n",
    "\n",
    "\n",
    "import time\n",
    "print('Please enter your email-id : ', end=' ')\n",
    "#print('Please enter your email-id : ', end=' ', flush=True) #run this to see the difference and comment out the above line of code.\n",
    "time.sleep(5)\n",
    "\n",
    "\n",
    "# Note: If you run the above lines of code in the terminal, you will notice that the prompt string does not show up \n",
    "# until the sleep timer ends and the program exits (Source). However, if you add flush=True in the print function, \n",
    "# you will see the prompt, and then you will have to wait for 5 seconds for the program to finish.\n",
    "\n",
    "# Somehow the Jupyter Notebook or Jupyter Lab takes care of it and shows the prompt before the 5 seconds timer, \n",
    "# so if you want to test this functionality of print, make sure to run it in command line terminal and not on the jupyter notebook.\n",
    "\n",
    "# Let's now see how you can make use of the print function to take input from the user in the jupyter notebook. \n",
    "# For this, you will use python's builtin function input().\n"
   ]
  },
  {
   "cell_type": "code",
   "execution_count": null,
   "metadata": {},
   "outputs": [],
   "source": [
    "# Others code"
   ]
  }
 ],
 "metadata": {
  "kernelspec": {
   "display_name": "Python 3",
   "language": "python",
   "name": "python3"
  },
  "language_info": {
   "codemirror_mode": {
    "name": "ipython",
    "version": 3
   },
   "file_extension": ".py",
   "mimetype": "text/x-python",
   "name": "python",
   "nbconvert_exporter": "python",
   "pygments_lexer": "ipython3",
   "version": "3.11.1"
  },
  "orig_nbformat": 4
 },
 "nbformat": 4,
 "nbformat_minor": 2
}
