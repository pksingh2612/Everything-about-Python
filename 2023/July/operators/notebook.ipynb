{
 "cells": [
  {
   "cell_type": "markdown",
   "metadata": {},
   "source": [
    "## Python Bitwise Operators\n",
    "\n",
    "![Bitwise Operators](bitwise_operators.png)"
   ]
  },
  {
   "cell_type": "code",
   "execution_count": 65,
   "metadata": {},
   "outputs": [],
   "source": [
    "from IPython.display import YouTubeVideo\n",
    "\n",
    "def display_youtube_video(video_id):\n",
    "    # Create a YouTubeVideo object\n",
    "    video = YouTubeVideo(video_id)\n",
    "    # Display the video\n",
    "    display(video)"
   ]
  },
  {
   "cell_type": "code",
   "execution_count": 66,
   "metadata": {},
   "outputs": [
    {
     "name": "stdout",
     "output_type": "stream",
     "text": [
      "Decimal Numbers => a = 5, b = 10\n",
      "Binary Numbers => c = 0b101, d = 0b1010\n"
     ]
    }
   ],
   "source": [
    "# Assigning numbers in decimal\n",
    "a = 5  \n",
    "b = 10\n",
    "\n",
    "print(\"Decimal Numbers => a = {0}, b = {1}\".format(a,b))\n",
    "\n",
    "# Convert decimal number into binary string number\n",
    "c = bin(a)\n",
    "d = bin(b)\n",
    "\n",
    "print(\"Binary Numbers => c = {0}, d = {1}\".format(c,d))"
   ]
  },
  {
   "cell_type": "code",
   "execution_count": 67,
   "metadata": {},
   "outputs": [
    {
     "name": "stdout",
     "output_type": "stream",
     "text": [
      "Bitwise AND of a = 5 and b = 10 in decimal number is : 0 .\n",
      "Bitwise AND of a = 0b101 and b = 0b1010 in binary number is : 0b0 .\n"
     ]
    }
   ],
   "source": [
    "# a) Bitwise AND \n",
    "# It returns a new number where each bit is set to 1 only if the corresponding bits in both numbers are 1. \n",
    "# Otherwise, the bit is set to 0.\n",
    "\n",
    "result_bitwise_and  = a & b\n",
    "print(\"Bitwise AND of a = {0} and b = {1} in decimal number is : {2} .\".format(a,b,result_bitwise_and))\n",
    "result_bitwise_and = bin(result_bitwise_and)\n",
    "print(\"Bitwise AND of a = {0} and b = {1} in binary number is : {2} .\".format(c,d,result_bitwise_and))"
   ]
  },
  {
   "cell_type": "code",
   "execution_count": 68,
   "metadata": {},
   "outputs": [
    {
     "name": "stdout",
     "output_type": "stream",
     "text": [
      "Bitwise OR of a = 5 and b = 10 in decimal number is : 15 .\n",
      "Bitwise OR of a = 0b101 and b = 0b1010 in binary number is : 0b1111 .\n"
     ]
    }
   ],
   "source": [
    "# b) Bitwise OR ()\n",
    "# It returns a new number where each bit is set to 1 if either of the corresponding bits in the two numbers is 1. \n",
    "# Otherwise, the bit is set to 0.\n",
    "\n",
    "result_bitwise_or  = a | b\n",
    "print(\"Bitwise OR of a = {0} and b = {1} in decimal number is : {2} .\".format(a,b,result_bitwise_or))\n",
    "result_bitwise_or = bin(result_bitwise_or)\n",
    "print(\"Bitwise OR of a = {0} and b = {1} in binary number is : {2} .\".format(c,d,result_bitwise_or))"
   ]
  },
  {
   "cell_type": "code",
   "execution_count": 69,
   "metadata": {},
   "outputs": [
    {
     "name": "stdout",
     "output_type": "stream",
     "text": [
      "Bitwise xOR of a = 5 and b = 10 in decimal number is : 15 .\n",
      "Bitwise xOR of a = 0b101 and b = 0b1010 in binary number is : 0b1111 .\n"
     ]
    }
   ],
   "source": [
    "# c) Bitwise xOR\n",
    "# It returns a new number where each bit is set to 1 only if the corresponding bits in the two numbers are different \n",
    "# (one bit is 0 and the other is 1). If the corresponding bits are the same (both 0 or both 1), the bit is set to 0.\n",
    "\n",
    "result_bitwise_xor  = a ^ b\n",
    "print(\"Bitwise xOR of a = {0} and b = {1} in decimal number is : {2} .\".format(a,b,result_bitwise_xor))\n",
    "result_bitwise_xor = bin(result_bitwise_xor)\n",
    "print(\"Bitwise xOR of a = {0} and b = {1} in binary number is : {2} .\".format(c,d,result_bitwise_xor))"
   ]
  },
  {
   "cell_type": "code",
   "execution_count": 70,
   "metadata": {},
   "outputs": [
    {
     "data": {
      "image/jpeg": "[encoded data removed]",
      "text/html": [
       "\n",
       "        <iframe\n",
       "            width=\"400\"\n",
       "            height=\"300\"\n",
       "            src=\"https://www.youtube.com/embed/y2tUNlnS1fc\"\n",
       "            frameborder=\"0\"\n",
       "            allowfullscreen\n",
       "            \n",
       "        ></iframe>\n",
       "        "
      ],
      "text/plain": [
       "<IPython.lib.display.YouTubeVideo at 0x1dd1dba3e10>"
      ]
     },
     "metadata": {},
     "output_type": "display_data"
    },
    {
     "name": "stdout",
     "output_type": "stream",
     "text": [
      "Bitwise Right Shift of a = 5 and b = 10 in decimal number is : 0 .\n",
      "Bitwise Right Shift of a = 0b101 and b = 0b1010 in binary number is : 0b0 .\n"
     ]
    }
   ],
   "source": [
    "# d) Bitwise Right Shift (convert 5 into its binary resp. and right shift the bit of a to b number of times.)\n",
    "\n",
    "#  Shifts the bits of a binary number to the right by a specified number of positions. \n",
    "# Zeros are filled in from the left for unsigned numbers. For signed numbers, the most significant bit (sign bit) is filled in from the left, \n",
    "# preserving the sign of the number. \n",
    "# This operation is equivalent to dividing the number by 2 raised to the power of the shift amount.\n",
    "display_youtube_video('y2tUNlnS1fc')\n",
    "\n",
    "result_bitwise_right_shift  = a >> b\n",
    "print(\"Bitwise Right Shift of a = {0} and b = {1} in decimal number is : {2} .\".format(a,b,result_bitwise_right_shift))\n",
    "result_bitwise_right_shift = bin(result_bitwise_right_shift)\n",
    "print(\"Bitwise Right Shift of a = {0} and b = {1} in binary number is : {2} .\".format(c,d,result_bitwise_right_shift))"
   ]
  },
  {
   "cell_type": "code",
   "execution_count": 71,
   "metadata": {},
   "outputs": [
    {
     "data": {
      "image/jpeg": "[encoded data removed]",
      "text/html": [
       "\n",
       "        <iframe\n",
       "            width=\"400\"\n",
       "            height=\"300\"\n",
       "            src=\"https://www.youtube.com/embed/sUMLLAoI8Kw\"\n",
       "            frameborder=\"0\"\n",
       "            allowfullscreen\n",
       "            \n",
       "        ></iframe>\n",
       "        "
      ],
      "text/plain": [
       "<IPython.lib.display.YouTubeVideo at 0x1dd1db856d0>"
      ]
     },
     "metadata": {},
     "output_type": "display_data"
    },
    {
     "name": "stdout",
     "output_type": "stream",
     "text": [
      "Bitwise Left Shift of a = 5 and b = 10 in decimal number is : 5120 .\n",
      "Bitwise Left Shift of a = 0b101 and b = 0b1010 in binary number is : 0b1010000000000 .\n"
     ]
    }
   ],
   "source": [
    "# e) Bitwise Left Shift (convert 5 into its binary resp. and left shift the bit of a to b number of times.)\n",
    "\n",
    "# Shifts the bits of a binary number to the left by a specified number of positions. \n",
    "# Zeros are filled in from the right. This operation is equivalent to multiplying the number by 2 raised to the power of the shift amount.\n",
    "display_youtube_video('sUMLLAoI8Kw')\n",
    "result_bitwise_left_shift  = a << b\n",
    "print(\"Bitwise Left Shift of a = {0} and b = {1} in decimal number is : {2} .\".format(a,b,result_bitwise_left_shift))\n",
    "result_bitwise_left_shift = bin(result_bitwise_left_shift)\n",
    "print(\"Bitwise Left Shift of a = {0} and b = {1} in binary number is : {2} .\".format(c,d,result_bitwise_left_shift))"
   ]
  },
  {
   "cell_type": "code",
   "execution_count": 72,
   "metadata": {},
   "outputs": [
    {
     "data": {
      "text/html": [
       "\n",
       "        <iframe\n",
       "            width=\"100%\"\n",
       "            height=\"400\"\n",
       "            src=\"https://www.youtube.com/embed/Yk3Jwm5YuFs\"\n",
       "            frameborder=\"0\"\n",
       "            allowfullscreen\n",
       "            \n",
       "        ></iframe>\n",
       "        "
      ],
      "text/plain": [
       "<IPython.lib.display.IFrame at 0x1dd1db853d0>"
      ]
     },
     "metadata": {},
     "output_type": "display_data"
    }
   ],
   "source": [
    "# Bitwise NOT\n",
    "# YouTubeVideo('Yk3Jwm5YuFs')\n",
    "\n",
    "from IPython.display import IFrame\n",
    "url = \"https://www.youtube.com/embed/Yk3Jwm5YuFs\"\n",
    "iframe = IFrame(url, width=\"100%\", height=400)\n",
    "\n",
    "# Display the IFrame\n",
    "display(iframe)"
   ]
  },
  {
   "cell_type": "code",
   "execution_count": 73,
   "metadata": {},
   "outputs": [
    {
     "name": "stdout",
     "output_type": "stream",
     "text": [
      "-6\n",
      "0b101\n",
      "-0b110\n"
     ]
    }
   ],
   "source": [
    "# f) Bitwise NOT ( It flips each bit, i.e., changes 1 to 0 and 0 to 1.)\n",
    "\n",
    "print(~a) # Output: -6\n",
    "print(bin(a))\n",
    "print(bin(~a))\n",
    "\n",
    "# Note: 2's complement of a = ~a\n",
    "# a = 101 (positive sign)\n",
    "# ~a = 010 (negative sign)\n",
    "# 1's comp. of a = 010 (negative sign)\n",
    "# 2's comp. of a = 110 (negative sign)"
   ]
  },
  {
   "cell_type": "markdown",
   "metadata": {},
   "source": [
    "#### Precedence and Associativity of Operators in Python\n",
    "\n",
    "![Precedence and Associativity of Operators in Python](precedence_associativity_of_operator_1.png)\n",
    "![Precedence and Associativity of Operators in Python](precedence_associativity_of_operator_2.png)"
   ]
  },
  {
   "cell_type": "code",
   "execution_count": 74,
   "metadata": {},
   "outputs": [
    {
     "name": "stdout",
     "output_type": "stream",
     "text": [
      "False\n"
     ]
    }
   ],
   "source": [
    "# What is the output of print(0.1+0.2 == 0.3)?\n",
    "print(0.1+0.2 == 0.3)"
   ]
  }
 ],
 "metadata": {
  "kernelspec": {
   "display_name": "Python 3",
   "language": "python",
   "name": "python3"
  },
  "language_info": {
   "codemirror_mode": {
    "name": "ipython",
    "version": 3
   },
   "file_extension": ".py",
   "mimetype": "text/x-python",
   "name": "python",
   "nbconvert_exporter": "python",
   "pygments_lexer": "ipython3",
   "version": "3.11.1"
  },
  "orig_nbformat": 4
 },
 "nbformat": 4,
 "nbformat_minor": 2
}
