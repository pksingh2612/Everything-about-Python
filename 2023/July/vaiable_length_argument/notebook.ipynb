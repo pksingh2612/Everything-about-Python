{
 "cells": [
  {
   "cell_type": "markdown",
   "metadata": {},
   "source": [
    "##### Passing Variable-length arguments\n",
    "\n",
    "A variable numbers of arguments can be passed to a function in python using special symbols.\n",
    "\n",
    "a) *args ( for Non-Keyword Arguments)\n",
    "b) **kwargs ( for Keyword Arguments)\n",
    "\n",
    "<a href=\"https://www.codingninjas.com/studio/guided-paths/basics-of-python/content/118793/offering/1381895\">Click here for more detail</a>"
   ]
  },
  {
   "cell_type": "code",
   "execution_count": 3,
   "metadata": {},
   "outputs": [
    {
     "name": "stdout",
     "output_type": "stream",
     "text": [
      "1 2 60\n"
     ]
    }
   ],
   "source": [
    "def findsum(a,b,*args):\n",
    "    sm = 1\n",
    "    for i in args:\n",
    "        sm*=i\n",
    "    \n",
    "    return a,b,sm\n",
    "\n",
    "a,b,z = findsum(1,2,3,4,5)\n",
    "print(a,b,z)"
   ]
  },
  {
   "cell_type": "code",
   "execution_count": 4,
   "metadata": {},
   "outputs": [
    {
     "ename": "TypeError",
     "evalue": "findsum() takes 2 positional arguments but 3 were given",
     "output_type": "error",
     "traceback": [
      "\u001b[1;31m---------------------------------------------------------------------------\u001b[0m",
      "\u001b[1;31mTypeError\u001b[0m                                 Traceback (most recent call last)",
      "Cell \u001b[1;32mIn[4], line 8\u001b[0m\n\u001b[0;32m      4\u001b[0m         sm\u001b[39m*\u001b[39m\u001b[39m=\u001b[39mi\n\u001b[0;32m      6\u001b[0m     \u001b[39mreturn\u001b[39;00m a,b,sm\n\u001b[1;32m----> 8\u001b[0m a,b,z \u001b[39m=\u001b[39m findsum(\u001b[39m1\u001b[39;49m,\u001b[39m2\u001b[39;49m,\u001b[39m5\u001b[39;49m)\n\u001b[0;32m      9\u001b[0m \u001b[39mprint\u001b[39m(a,b,z)\n",
      "\u001b[1;31mTypeError\u001b[0m: findsum() takes 2 positional arguments but 3 were given"
     ]
    }
   ],
   "source": [
    "def findsum(a,b):\n",
    "    sm = 1\n",
    "    for i in args:\n",
    "        sm*=i\n",
    "    \n",
    "    return a,b,sm\n",
    "\n",
    "a,b,z = findsum(1,2,5)\n",
    "print(a,b,z)"
   ]
  }
 ],
 "metadata": {
  "kernelspec": {
   "display_name": "Python 3",
   "language": "python",
   "name": "python3"
  },
  "language_info": {
   "codemirror_mode": {
    "name": "ipython",
    "version": 3
   },
   "file_extension": ".py",
   "mimetype": "text/x-python",
   "name": "python",
   "nbconvert_exporter": "python",
   "pygments_lexer": "ipython3",
   "version": "3.11.1"
  },
  "orig_nbformat": 4
 },
 "nbformat": 4,
 "nbformat_minor": 2
}
